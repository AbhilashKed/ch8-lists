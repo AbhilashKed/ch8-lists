{
 "cells": [
  {
   "cell_type": "markdown",
   "metadata": {},
   "source": [
    "# Exercise 3\n",
    "Add the specified code for each code cell, running the cells _in order_."
   ]
  },
  {
   "cell_type": "markdown",
   "metadata": {},
   "source": [
    "In this exercise you will be working with _images_, peforming some simple manipulations to change their appearance!\n",
    "\n",
    "One effective Python module for working with images is called [Pillow](http://pillow.readthedocs.io/en/4.1.x/handbook/overview.html), which is an update to the classic PIL (Python Imaging Library) module. This module comes with Anaconda, so should already be available on your machine. (See also its [tutorial](http://pillow.readthedocs.io/en/4.1.x/handbook/tutorial.html)).\n",
    "\n",
    "In particular, you will be working with the [Image](http://pillow.readthedocs.io/en/4.1.x/reference/Image.html) module. Start by _importing_ the `Image` module from the `PIL` library."
   ]
  },
  {
   "cell_type": "code",
   "execution_count": null,
   "metadata": {},
   "outputs": [],
   "source": []
  },
  {
   "cell_type": "markdown",
   "metadata": {},
   "source": [
    "You can then open an image using the `Image` module**'s** [open()](http://pillow.readthedocs.io/en/4.1.x/reference/Image.html#PIL.Image.open) function, passing the (relative!) path to an image file to open.\n",
    "\n",
    "Open the `img/husky_puppy.jpg` image and save it in a variable called **`my_image`**."
   ]
  },
  {
   "cell_type": "code",
   "execution_count": null,
   "metadata": {},
   "outputs": [],
   "source": []
  },
  {
   "cell_type": "markdown",
   "metadata": {},
   "source": [
    "It is possible to show the image you have opened in a few different ways. Calling the [show()](http://pillow.readthedocs.io/en/4.1.x/reference/Image.html#PIL.Image.Image.show) method on an image will display it, but this method is slow (and may not work on all machines).\n",
    "\n",
    "Instead, it is possible to display an image file (not necessarily one that you opened!) directly in Jupyter by utilizing the `IPython` library, as with the example below:"
   ]
  },
  {
   "cell_type": "code",
   "execution_count": null,
   "metadata": {},
   "outputs": [],
   "source": [
    "from IPython.display import Image as DisplayImage  # only need to import this once\n",
    "DisplayImage('img/husky_puppy.jpg')  # this needs to be the last line of the cell"
   ]
  },
  {
   "cell_type": "markdown",
   "metadata": {},
   "source": [
    "The `my_image` variable representing the image you opened has a number of properties that describe the image. For example, the [size](http://pillow.readthedocs.io/en/4.1.x/reference/Image.html#PIL.Image.size) attribute returns a _tuple_ of the image's width and height. Assign the values of this tuple to distinct `width` and `height` variables. "
   ]
  },
  {
   "cell_type": "code",
   "execution_count": null,
   "metadata": {
    "collapsed": true
   },
   "outputs": [],
   "source": []
  },
  {
   "cell_type": "markdown",
   "metadata": {},
   "source": [
    "Images are represented by computers as 2-dimensional grids of colored points called [pixels](https://en.wikipedia.org/wiki/Pixel). Each pixel stores the color of the picture at that particular point in the grid. Computer colors are based on three components (or channels): a red component, a green component and a blue component. Each component is an integer with a value from 0 to 255 (1 byte). If all components are 0, the color ends up being black. If all components are 255, the color is white. Other combinations give other colors. You can see one example of how different channels combine [here](http://www.rapidtables.com/web/color/RGB_Color.htm). This method of specifying colors (there are other methods too!) is called 'RGB' for \"red green blue\".\n",
    "\n",
    "With Pillow, pixels are represented as a triple (a **tuple** of length 3), with the each element in the tuple representing the _red_, _green_, and _blue_ component respectively.\n",
    "\n",
    "Get a sequence of these pixel colors by calling the [getdata()](http://pillow.readthedocs.io/en/4.1.x/reference/Image.html#PIL.Image.Image.getdata) function on your opened image, and save it in a variable **`pixel_list`**. You will need to [convert](https://docs.python.org/3/library/functions.html#func-list) the sequence into a _list_ in order to work with it. Print out the first element in this list of pixels to see an example of what color it is! (In the upper left corner it will be sort of brownish, meaning a high \"red\" channel but medium \"blue\" and \"green\" channels).\n",
    "- Note that there are other, more efficient ways of manipulating images with the Pillow library, but this process will let you practice with lists!"
   ]
  },
  {
   "cell_type": "code",
   "execution_count": null,
   "metadata": {},
   "outputs": [],
   "source": []
  },
  {
   "cell_type": "markdown",
   "metadata": {},
   "source": [
    "The list of pixel data Pillow provides is a _one-dimensional list_ (e.g., all of the pixels in the first row, followed by all of the pixels in the second row, etc). You can confirm this by printing the length of the `pixel_list`.\n",
    "\n",
    "To make it easier to manipulate the images, you should create a new variable **`pixel_grid`** that is a _two-dimensional list_ (or _nested list_) of the pixels. The `pixel_grid` variable should be a list of \"rows\", where each \"row\" is a list of \"pixels\" (tuples).\n",
    "- Use a loop to append each \"row\" of pixels to the `pixel_grid` list.\n",
    "- **Hint**: there are `height` rows in the image. If each row was `200` pixels across, then the 0th row would be pixels 0 to 200 (not inclusive), the next would be 200 to 400 (not inclusive)... with the ith row being pixels `i*width` to `(i+1)*width`."
   ]
  },
  {
   "cell_type": "code",
   "execution_count": null,
   "metadata": {},
   "outputs": [],
   "source": []
  },
  {
   "cell_type": "markdown",
   "metadata": {},
   "source": [
    "Since you'll be doing multiple manipulations, you'll want to make a _copy_ of this nested list to modify, allowing you to keep the original intact (e.g., for comparisons). The simplest way to copy a two-dimensional list is to use the [deepcopy()](https://docs.python.org/3/library/copy.html#copy.deepcopy) method from the `copy` module. Import that method (once) and then copy the `pixel_grid` into a new variable **`grayscale_grid`**."
   ]
  },
  {
   "cell_type": "code",
   "execution_count": null,
   "metadata": {},
   "outputs": [],
   "source": []
  },
  {
   "cell_type": "markdown",
   "metadata": {},
   "source": [
    "Finally you can begin modifying the image. Start by creating a _grayscale_ version of the image. To do this, iterate through _each_ pixel in the `grayscale_grid` (you'll need a nested loop!). Change each pixel so the value of each of its red, green, and blue components is the **average** (as an integer) of the red, green, and blue components. That is, a pixel with color `(228, 197, 151)` should become a pixel with color `(192, 192, 192)`."
   ]
  },
  {
   "cell_type": "code",
   "execution_count": null,
   "metadata": {},
   "outputs": [],
   "source": []
  },
  {
   "cell_type": "markdown",
   "metadata": {},
   "source": [
    "Now to display the image! To do this using the `DisplayImage()` function from above, you'll need to first save the modified pixels to a new file. Since you'll do this repeatedly, a function that abstracts that work is provided below:"
   ]
  },
  {
   "cell_type": "code",
   "execution_count": null,
   "metadata": {},
   "outputs": [],
   "source": [
    "def save_new_image(out_grid, filename):\n",
    "    flat_pixels = sum(out_grid, [])  # flatten the grid by adding all rows together\n",
    "    new_image = my_image.copy()      # create a new Image\n",
    "    new_image.putdata(flat_pixels)   # save the pixel list in the new Image\n",
    "    new_image.save(filename)         # save the Image to file\n",
    "    return DisplayImage(filename)    # return a version to display in Jupyter"
   ]
  },
  {
   "cell_type": "markdown",
   "metadata": {},
   "source": [
    "Call the `save_new_image()` function, passing it the `grayscale_grid` and saving the image as `img/grayscale.jpg`. This should cause the grayscale puppy to appear!"
   ]
  },
  {
   "cell_type": "code",
   "execution_count": null,
   "metadata": {},
   "outputs": [],
   "source": []
  },
  {
   "cell_type": "markdown",
   "metadata": {},
   "source": [
    "Next, create a _new_ copy of the original `pixel_grid` and store it in a variable **`flipped_grid`**. Then modify that grid to flip the image upside down! Be sure and call `save_new_image()` when finished to display it (save as a file `img/flipped.jpg`).\n",
    "- To flip the image, take each pixel from the original image and put it in the corresponding place in the new image by giving it a new \"row\". Think about where each pixel needs to go in order to flip the image upside down&mdash;what math will you need to perform?\n",
    "- Use another set of nested loops!"
   ]
  },
  {
   "cell_type": "code",
   "execution_count": null,
   "metadata": {},
   "outputs": [],
   "source": []
  },
  {
   "cell_type": "markdown",
   "metadata": {},
   "source": [
    "Next, create a _new_ copy of the original `pixel_grid` and store it in a variable **`negative_grid`**. Then modify that grid to produce a photographic \"negative\" of the image (with all the colors inverted). Be sure and call `save_new_image()` when finished (save as a file `img/negative.jpg`).\n",
    "- To invert the colors, take each component and subtract it from `255` in order to get the \"new\" value of that component.\n",
    "- Use those nested loops again!"
   ]
  },
  {
   "cell_type": "code",
   "execution_count": null,
   "metadata": {},
   "outputs": [],
   "source": []
  }
 ],
 "metadata": {
  "kernelspec": {
   "display_name": "Python 3",
   "language": "python",
   "name": "python3"
  },
  "language_info": {
   "codemirror_mode": {
    "name": "ipython",
    "version": 3
   },
   "file_extension": ".py",
   "mimetype": "text/x-python",
   "name": "python",
   "nbconvert_exporter": "python",
   "pygments_lexer": "ipython3",
   "version": "3.6.1"
  },
  "toc": {
   "colors": {
    "hover_highlight": "#DAA520",
    "running_highlight": "#FF0000",
    "selected_highlight": "#FFD700"
   },
   "moveMenuLeft": true,
   "nav_menu": {
    "height": "30px",
    "width": "252px"
   },
   "navigate_menu": true,
   "number_sections": true,
   "sideBar": true,
   "threshold": 4,
   "toc_cell": false,
   "toc_section_display": "block",
   "toc_window_display": false,
   "widenNotebook": false
  }
 },
 "nbformat": 4,
 "nbformat_minor": 2
}
